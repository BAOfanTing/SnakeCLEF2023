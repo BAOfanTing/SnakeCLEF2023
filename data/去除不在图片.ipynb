{
 "cells": [
  {
   "cell_type": "code",
   "execution_count": 7,
   "id": "b667b526-db65-47c0-a4f6-c7293c7a7440",
   "metadata": {},
   "outputs": [],
   "source": [
    "import csv\n",
    "import os\n",
    "data_root = \"/root/autodl-tmp/data/SnakeCLEF2022-small_size/\"\n",
    "with open('valid_split.csv', 'r') as file:\n",
    "    reader = csv.DictReader(file)\n",
    "\n",
    "    # 创建新的csv文件并写入标题行\n",
    "    with open('new_file.csv', 'w', newline='') as new_file:\n",
    "        writer = csv.DictWriter(new_file, fieldnames=reader.fieldnames)\n",
    "        writer.writeheader()\n",
    "\n",
    "        # 遍历每一行\n",
    "        for row in reader:\n",
    "            path = os.path.join(data_root, row['image_path'])\n",
    "            # 如果image_path存在，则写入新文件\n",
    "            if os.path.exists(path):\n",
    "                writer.writerow(row)"
   ]
  },
  {
   "cell_type": "code",
   "execution_count": 2,
   "id": "1d4bd6c7-a7eb-44f3-86fd-2ab3dc4f1583",
   "metadata": {},
   "outputs": [
    {
     "name": "stdout",
     "output_type": "stream",
     "text": [
      "Looking in indexes: https://repo.huaweicloud.com/repository/pypi/simple\n",
      "Collecting seaborn\n",
      "  Downloading https://repo.huaweicloud.com/repository/pypi/packages/10/5b/0479d7d845b5ba410ca702ffcd7f2cd95a14a4dfff1fde2637802b258b9b/seaborn-0.11.2-py3-none-any.whl (292 kB)\n",
      "\u001b[K     |████████████████████████████████| 292 kB 1.9 MB/s eta 0:00:01\n",
      "\u001b[?25hRequirement already satisfied: pandas>=0.23 in /root/miniconda3/lib/python3.8/site-packages (from seaborn) (1.5.2)\n",
      "Requirement already satisfied: matplotlib>=2.2 in /root/miniconda3/lib/python3.8/site-packages (from seaborn) (3.5.2)\n",
      "Requirement already satisfied: numpy>=1.15 in /root/miniconda3/lib/python3.8/site-packages (from seaborn) (1.22.4)\n",
      "Requirement already satisfied: scipy>=1.0 in /root/miniconda3/lib/python3.8/site-packages (from seaborn) (1.9.3)\n",
      "Requirement already satisfied: python-dateutil>=2.7 in /root/miniconda3/lib/python3.8/site-packages (from matplotlib>=2.2->seaborn) (2.8.2)\n",
      "Requirement already satisfied: pillow>=6.2.0 in /root/miniconda3/lib/python3.8/site-packages (from matplotlib>=2.2->seaborn) (9.1.1)\n",
      "Requirement already satisfied: cycler>=0.10 in /root/miniconda3/lib/python3.8/site-packages (from matplotlib>=2.2->seaborn) (0.11.0)\n",
      "Requirement already satisfied: pyparsing>=2.2.1 in /root/miniconda3/lib/python3.8/site-packages (from matplotlib>=2.2->seaborn) (3.0.9)\n",
      "Requirement already satisfied: fonttools>=4.22.0 in /root/miniconda3/lib/python3.8/site-packages (from matplotlib>=2.2->seaborn) (4.33.3)\n",
      "Requirement already satisfied: kiwisolver>=1.0.1 in /root/miniconda3/lib/python3.8/site-packages (from matplotlib>=2.2->seaborn) (1.4.3)\n",
      "Requirement already satisfied: packaging>=20.0 in /root/miniconda3/lib/python3.8/site-packages (from matplotlib>=2.2->seaborn) (21.3)\n",
      "Requirement already satisfied: pytz>=2020.1 in /root/miniconda3/lib/python3.8/site-packages (from pandas>=0.23->seaborn) (2022.1)\n",
      "Requirement already satisfied: six>=1.5 in /root/miniconda3/lib/python3.8/site-packages (from python-dateutil>=2.7->matplotlib>=2.2->seaborn) (1.16.0)\n",
      "Installing collected packages: seaborn\n",
      "Successfully installed seaborn-0.11.2\n",
      "\u001b[33mWARNING: Running pip as the 'root' user can result in broken permissions and conflicting behaviour with the system package manager. It is recommended to use a virtual environment instead: https://pip.pypa.io/warnings/venv\u001b[0m\n"
     ]
    }
   ],
   "source": [
    "!pip install seaborn"
   ]
  },
  {
   "cell_type": "code",
   "execution_count": 3,
   "id": "5c8d7fb4-9425-4274-a4c9-67de5330ddd8",
   "metadata": {},
   "outputs": [],
   "source": [
    "import torch\n",
    "import torch.nn as nn\n",
    "import pandas as pd\n",
    "import numpy as np\n",
    "from torch.utils.data import Dataset,DataLoader\n",
    "from torchvision import transforms\n",
    "from PIL import Image\n",
    "import os \n",
    "import matplotlib.pyplot as plt\n",
    "import torchvision.models as models\n",
    "from tqdm import tqdm\n",
    "import seaborn as sns"
   ]
  },
  {
   "cell_type": "code",
   "execution_count": 4,
   "id": "97d35480-7a8b-47e7-933d-ef22fb88542c",
   "metadata": {},
   "outputs": [
    {
     "name": "stderr",
     "output_type": "stream",
     "text": [
      "/tmp/ipykernel_165/1233495139.py:1: DtypeWarning: Columns (1) have mixed types. Specify dtype option on import or set low_memory=False.\n",
      "  labels_dataframe = pd.read_csv('./SnakeCLEF2022-Train.csv',header=0)\n"
     ]
    },
    {
     "data": {
      "text/html": [
       "<div>\n",
       "<style scoped>\n",
       "    .dataframe tbody tr th:only-of-type {\n",
       "        vertical-align: middle;\n",
       "    }\n",
       "\n",
       "    .dataframe tbody tr th {\n",
       "        vertical-align: top;\n",
       "    }\n",
       "\n",
       "    .dataframe thead th {\n",
       "        text-align: right;\n",
       "    }\n",
       "</style>\n",
       "<table border=\"1\" class=\"dataframe\">\n",
       "  <thead>\n",
       "    <tr style=\"text-align: right;\">\n",
       "      <th></th>\n",
       "      <th>observation_id</th>\n",
       "      <th>endemic</th>\n",
       "      <th>binomial_name</th>\n",
       "      <th>code</th>\n",
       "      <th>image_path</th>\n",
       "      <th>class_id</th>\n",
       "      <th>subset</th>\n",
       "    </tr>\n",
       "  </thead>\n",
       "  <tbody>\n",
       "    <tr>\n",
       "      <th>0</th>\n",
       "      <td>2670823</td>\n",
       "      <td>True</td>\n",
       "      <td>Zamenis lineatus</td>\n",
       "      <td>IT</td>\n",
       "      <td>1990/Zamenis_lineatus/3001242.jpg</td>\n",
       "      <td>1779</td>\n",
       "      <td>train</td>\n",
       "    </tr>\n",
       "    <tr>\n",
       "      <th>1</th>\n",
       "      <td>70108926</td>\n",
       "      <td>False</td>\n",
       "      <td>Xenoxybelis argenteus</td>\n",
       "      <td>VE</td>\n",
       "      <td>1990/Xenoxybelis_argenteus/113910655.jpg</td>\n",
       "      <td>1772</td>\n",
       "      <td>train</td>\n",
       "    </tr>\n",
       "    <tr>\n",
       "      <th>2</th>\n",
       "      <td>70108926</td>\n",
       "      <td>False</td>\n",
       "      <td>Xenoxybelis argenteus</td>\n",
       "      <td>VE</td>\n",
       "      <td>1990/Xenoxybelis_argenteus/113910659.jpg</td>\n",
       "      <td>1772</td>\n",
       "      <td>train</td>\n",
       "    </tr>\n",
       "    <tr>\n",
       "      <th>3</th>\n",
       "      <td>117935</td>\n",
       "      <td>False</td>\n",
       "      <td>Aspidelaps lubricus</td>\n",
       "      <td>ZA</td>\n",
       "      <td>1990/Aspidelaps_lubricus/168477.JPG</td>\n",
       "      <td>95</td>\n",
       "      <td>train</td>\n",
       "    </tr>\n",
       "    <tr>\n",
       "      <th>4</th>\n",
       "      <td>125284</td>\n",
       "      <td>False</td>\n",
       "      <td>Telescopus beetzi</td>\n",
       "      <td>ZA</td>\n",
       "      <td>1990/Telescopus_beetzi/177365.JPG</td>\n",
       "      <td>1606</td>\n",
       "      <td>train</td>\n",
       "    </tr>\n",
       "    <tr>\n",
       "      <th>5</th>\n",
       "      <td>125266</td>\n",
       "      <td>False</td>\n",
       "      <td>Dipsina multimaculata</td>\n",
       "      <td>unknown</td>\n",
       "      <td>1990/Dipsina_multimaculata/177336.JPG</td>\n",
       "      <td>561</td>\n",
       "      <td>train</td>\n",
       "    </tr>\n",
       "    <tr>\n",
       "      <th>6</th>\n",
       "      <td>125267</td>\n",
       "      <td>False</td>\n",
       "      <td>Dasypeltis scabra</td>\n",
       "      <td>unknown</td>\n",
       "      <td>1990/Dasypeltis_scabra/177337.JPG</td>\n",
       "      <td>469</td>\n",
       "      <td>train</td>\n",
       "    </tr>\n",
       "  </tbody>\n",
       "</table>\n",
       "</div>"
      ],
      "text/plain": [
       "   observation_id endemic          binomial_name     code  \\\n",
       "0         2670823    True       Zamenis lineatus       IT   \n",
       "1        70108926   False  Xenoxybelis argenteus       VE   \n",
       "2        70108926   False  Xenoxybelis argenteus       VE   \n",
       "3          117935   False    Aspidelaps lubricus       ZA   \n",
       "4          125284   False      Telescopus beetzi       ZA   \n",
       "5          125266   False  Dipsina multimaculata  unknown   \n",
       "6          125267   False      Dasypeltis scabra  unknown   \n",
       "\n",
       "                                 image_path  class_id subset  \n",
       "0         1990/Zamenis_lineatus/3001242.jpg      1779  train  \n",
       "1  1990/Xenoxybelis_argenteus/113910655.jpg      1772  train  \n",
       "2  1990/Xenoxybelis_argenteus/113910659.jpg      1772  train  \n",
       "3       1990/Aspidelaps_lubricus/168477.JPG        95  train  \n",
       "4         1990/Telescopus_beetzi/177365.JPG      1606  train  \n",
       "5     1990/Dipsina_multimaculata/177336.JPG       561  train  \n",
       "6         1990/Dasypeltis_scabra/177337.JPG       469  train  "
      ]
     },
     "execution_count": 4,
     "metadata": {},
     "output_type": "execute_result"
    }
   ],
   "source": [
    "labels_dataframe = pd.read_csv('./SnakeCLEF2022-Train.csv',header=0)\n",
    "labels_dataframe.head(7)"
   ]
  },
  {
   "cell_type": "code",
   "execution_count": 5,
   "id": "3452b0b7-3daf-4413-aa0a-5c82fa7e1c2f",
   "metadata": {},
   "outputs": [
    {
     "data": {
      "text/html": [
       "<div>\n",
       "<style scoped>\n",
       "    .dataframe tbody tr th:only-of-type {\n",
       "        vertical-align: middle;\n",
       "    }\n",
       "\n",
       "    .dataframe tbody tr th {\n",
       "        vertical-align: top;\n",
       "    }\n",
       "\n",
       "    .dataframe thead th {\n",
       "        text-align: right;\n",
       "    }\n",
       "</style>\n",
       "<table border=\"1\" class=\"dataframe\">\n",
       "  <thead>\n",
       "    <tr style=\"text-align: right;\">\n",
       "      <th></th>\n",
       "      <th>observation_id</th>\n",
       "      <th>class_id</th>\n",
       "    </tr>\n",
       "  </thead>\n",
       "  <tbody>\n",
       "    <tr>\n",
       "      <th>count</th>\n",
       "      <td>1.822610e+05</td>\n",
       "      <td>182261.000000</td>\n",
       "    </tr>\n",
       "    <tr>\n",
       "      <th>mean</th>\n",
       "      <td>6.847235e+07</td>\n",
       "      <td>916.810075</td>\n",
       "    </tr>\n",
       "    <tr>\n",
       "      <th>std</th>\n",
       "      <td>4.746983e+07</td>\n",
       "      <td>501.765136</td>\n",
       "    </tr>\n",
       "    <tr>\n",
       "      <th>min</th>\n",
       "      <td>1.233000e+03</td>\n",
       "      <td>0.000000</td>\n",
       "    </tr>\n",
       "    <tr>\n",
       "      <th>25%</th>\n",
       "      <td>2.474007e+07</td>\n",
       "      <td>457.000000</td>\n",
       "    </tr>\n",
       "    <tr>\n",
       "      <th>50%</th>\n",
       "      <td>6.721523e+07</td>\n",
       "      <td>913.000000</td>\n",
       "    </tr>\n",
       "    <tr>\n",
       "      <th>75%</th>\n",
       "      <td>1.093612e+08</td>\n",
       "      <td>1330.000000</td>\n",
       "    </tr>\n",
       "    <tr>\n",
       "      <th>max</th>\n",
       "      <td>1.478688e+08</td>\n",
       "      <td>1783.000000</td>\n",
       "    </tr>\n",
       "  </tbody>\n",
       "</table>\n",
       "</div>"
      ],
      "text/plain": [
       "       observation_id       class_id\n",
       "count    1.822610e+05  182261.000000\n",
       "mean     6.847235e+07     916.810075\n",
       "std      4.746983e+07     501.765136\n",
       "min      1.233000e+03       0.000000\n",
       "25%      2.474007e+07     457.000000\n",
       "50%      6.721523e+07     913.000000\n",
       "75%      1.093612e+08    1330.000000\n",
       "max      1.478688e+08    1783.000000"
      ]
     },
     "execution_count": 5,
     "metadata": {},
     "output_type": "execute_result"
    }
   ],
   "source": [
    "labels_dataframe.describe()"
   ]
  },
  {
   "cell_type": "code",
   "execution_count": 5,
   "id": "178fb559-b112-4a21-8c62-43c6e226af8f",
   "metadata": {},
   "outputs": [
    {
     "name": "stderr",
     "output_type": "stream",
     "text": [
      "/tmp/ipykernel_306/4120913242.py:9: DtypeWarning: Columns (1) have mixed types. Specify dtype option on import or set low_memory=False.\n",
      "  df = pd.read_csv('SnakeCLEF2022-Train.csv')\n"
     ]
    },
    {
     "data": {
      "image/png": "[encoded data removed]",
      "text/plain": [
       "<Figure size 432x288 with 1 Axes>"
      ]
     },
     "metadata": {
      "needs_background": "light"
     },
     "output_type": "display_data"
    }
   ],
   "source": [
    "import pandas as pd\n",
    "import matplotlib.pyplot as plt\n",
    "import matplotlib.font_manager as font_manager\n",
    "\n",
    "# 设置使用的字体为Times New Roman\n",
    "font_path = 'TIMESBD.TTF'  # 将 'path_to_times_new_roman.ttf' 替换为你Times New Roman字体文件的路径\n",
    "font_prop = font_manager.FontProperties(fname=font_path)\n",
    "\n",
    "df = pd.read_csv('SnakeCLEF2022-Train.csv')\n",
    "count = df['class_id'].value_counts().sort_values(ascending=False)\n",
    "\n",
    "plt.plot(count.values)\n",
    "plt.ylabel('Count', fontproperties=font_prop)  # 设置y轴字体为Times New Roman\n",
    "plt.xlabel('Class', fontproperties=font_prop)  # 设置x轴标题字体为Times New Roman\n",
    "plt.title('Pictures Count', fontproperties=font_prop)  # 设置标题字体为Times New Roman\n",
    "\n",
    "plt.xticks([])  # 隐藏x轴刻度标签\n",
    "\n",
    "plt.savefig('chart.svg', format='svg')\n",
    "plt.show()"
   ]
  },
  {
   "cell_type": "code",
   "execution_count": null,
   "id": "7badf176-d9d5-49e1-b392-799ece7b7d85",
   "metadata": {},
   "outputs": [],
   "source": []
  },
  {
   "cell_type": "code",
   "execution_count": null,
   "id": "bf7c86b3-c2ea-4c64-99ad-46a4745fbdb1",
   "metadata": {},
   "outputs": [],
   "source": []
  },
  {
   "cell_type": "code",
   "execution_count": null,
   "id": "338f6623-124d-467e-9459-ceed8a33526c",
   "metadata": {},
   "outputs": [],
   "source": []
  }
 ],
 "metadata": {
  "kernelspec": {
   "display_name": "Python 3 (ipykernel)",
   "language": "python",
   "name": "python3"
  },
  "language_info": {
   "codemirror_mode": {
    "name": "ipython",
    "version": 3
   },
   "file_extension": ".py",
   "mimetype": "text/x-python",
   "name": "python",
   "nbconvert_exporter": "python",
   "pygments_lexer": "ipython3",
   "version": "3.8.10"
  }
 },
 "nbformat": 4,
 "nbformat_minor": 5
}
